{
    "cells": [
        {
            "cell_type": "markdown",
            "metadata": {
                "collapsed": true
            },
            "source": "# THE SPARKS FOUNDATION\n## DATA SCIENCE AND BUSINESS ANALYSIS INTERNSHIP JAN2021"
        },
        {
            "cell_type": "markdown",
            "metadata": {},
            "source": "### NAME : CHIRANTHANA R R\n"
        },
        {
            "cell_type": "markdown",
            "metadata": {},
            "source": "## TASK 1: PREDICTION USING SUPERVISED ML"
        },
        {
            "cell_type": "markdown",
            "metadata": {},
            "source": "### QUESTION:\n    Predict the percentage of a student based on the number of study hours.\n    This is a simple regression task as it involves just 2 variables."
        },
        {
            "cell_type": "markdown",
            "metadata": {},
            "source": "### Data Source :http://bit.ly/w-data"
        },
        {
            "cell_type": "markdown",
            "metadata": {},
            "source": "## IMPORTING THE LIBRARIES"
        },
        {
            "cell_type": "code",
            "execution_count": 2,
            "metadata": {},
            "outputs": [],
            "source": "import pandas as pd\nimport numpy as np\nimport matplotlib.pyplot as plt\nimport seaborn as sns"
        },
        {
            "cell_type": "code",
            "execution_count": 4,
            "metadata": {},
            "outputs": [
                {
                    "name": "stdout",
                    "output_type": "stream",
                    "text": "    Hours  Scores\n0     2.5      21\n1     5.1      47\n2     3.2      27\n3     8.5      75\n4     3.5      30\n5     1.5      20\n6     9.2      88\n7     5.5      60\n8     8.3      81\n9     2.7      25\n10    7.7      85\n11    5.9      62\n12    4.5      41\n13    3.3      42\n14    1.1      17\n15    8.9      95\n16    2.5      30\n17    1.9      24\n18    6.1      67\n19    7.4      69\n20    2.7      30\n21    4.8      54\n22    3.8      35\n23    6.9      76\n24    7.8      86\n"
                }
            ],
            "source": "###LOADING DATA\nlink = \"http://bit.ly/w-data\"\ndata = pd.read_csv(link)\nprint(data)"
        },
        {
            "cell_type": "code",
            "execution_count": 5,
            "metadata": {},
            "outputs": [
                {
                    "name": "stdout",
                    "output_type": "stream",
                    "text": "<class 'pandas.core.frame.DataFrame'>\nRangeIndex: 25 entries, 0 to 24\nData columns (total 2 columns):\n #   Column  Non-Null Count  Dtype  \n---  ------  --------------  -----  \n 0   Hours   25 non-null     float64\n 1   Scores  25 non-null     int64  \ndtypes: float64(1), int64(1)\nmemory usage: 528.0 bytes\n"
                }
            ],
            "source": "### INFORMATION REGARDING DATAFRAME\ndata.info()"
        },
        {
            "cell_type": "code",
            "execution_count": 7,
            "metadata": {},
            "outputs": [
                {
                    "data": {
                        "text/plain": "(25, 2)"
                    },
                    "execution_count": 7,
                    "metadata": {},
                    "output_type": "execute_result"
                }
            ],
            "source": "data.shape"
        },
        {
            "cell_type": "code",
            "execution_count": 8,
            "metadata": {},
            "outputs": [
                {
                    "data": {
                        "text/html": "<div>\n<style scoped>\n    .dataframe tbody tr th:only-of-type {\n        vertical-align: middle;\n    }\n\n    .dataframe tbody tr th {\n        vertical-align: top;\n    }\n\n    .dataframe thead th {\n        text-align: right;\n    }\n</style>\n<table border=\"1\" class=\"dataframe\">\n  <thead>\n    <tr style=\"text-align: right;\">\n      <th></th>\n      <th>Hours</th>\n      <th>Scores</th>\n    </tr>\n  </thead>\n  <tbody>\n    <tr>\n      <th>count</th>\n      <td>25.000000</td>\n      <td>25.000000</td>\n    </tr>\n    <tr>\n      <th>mean</th>\n      <td>5.012000</td>\n      <td>51.480000</td>\n    </tr>\n    <tr>\n      <th>std</th>\n      <td>2.525094</td>\n      <td>25.286887</td>\n    </tr>\n    <tr>\n      <th>min</th>\n      <td>1.100000</td>\n      <td>17.000000</td>\n    </tr>\n    <tr>\n      <th>25%</th>\n      <td>2.700000</td>\n      <td>30.000000</td>\n    </tr>\n    <tr>\n      <th>50%</th>\n      <td>4.800000</td>\n      <td>47.000000</td>\n    </tr>\n    <tr>\n      <th>75%</th>\n      <td>7.400000</td>\n      <td>75.000000</td>\n    </tr>\n    <tr>\n      <th>max</th>\n      <td>9.200000</td>\n      <td>95.000000</td>\n    </tr>\n  </tbody>\n</table>\n</div>",
                        "text/plain": "           Hours     Scores\ncount  25.000000  25.000000\nmean    5.012000  51.480000\nstd     2.525094  25.286887\nmin     1.100000  17.000000\n25%     2.700000  30.000000\n50%     4.800000  47.000000\n75%     7.400000  75.000000\nmax     9.200000  95.000000"
                    },
                    "execution_count": 8,
                    "metadata": {},
                    "output_type": "execute_result"
                }
            ],
            "source": "data.describe()"
        },
        {
            "cell_type": "markdown",
            "metadata": {},
            "source": "## PLOTTING THE DATASET"
        },
        {
            "cell_type": "code",
            "execution_count": 11,
            "metadata": {},
            "outputs": [
                {
                    "data": {
                        "text/plain": "Text(0.5, 1.0, 'Hours Studied Vs Scores')"
                    },
                    "execution_count": 11,
                    "metadata": {},
                    "output_type": "execute_result"
                },
                {
                    "data": {
                        "image/png": "[encoded data removed]",
                        "text/plain": "<Figure size 432x288 with 1 Axes>"
                    },
                    "metadata": {
                        "needs_background": "light"
                    },
                    "output_type": "display_data"
                }
            ],
            "source": "### SETTING X AND Y AXIS VARIABLES\nplt.scatter(data['Hours'],data['Scores'],color='red')\nplt.xlabel(\"Hours studied\")\nplt.ylabel(\"Scores\")\nplt.title(\"Hours Studied Vs Scores\")"
        },
        {
            "cell_type": "code",
            "execution_count": 15,
            "metadata": {},
            "outputs": [
                {
                    "data": {
                        "text/plain": "Text(0.5, 1.0, 'Regression Plot')"
                    },
                    "execution_count": 15,
                    "metadata": {},
                    "output_type": "execute_result"
                },
                {
                    "data": {
                        "image/png": "[encoded data removed]",
                        "text/plain": "<Figure size 432x288 with 1 Axes>"
                    },
                    "metadata": {
                        "needs_background": "light"
                    },
                    "output_type": "display_data"
                }
            ],
            "source": "### REGRESSION PLOT\nsns.regplot(x='Hours',y='Scores',data=data,)\nplt.xlabel('Hours Spent')\nplt.ylabel('Scores')\nplt.title('Regression Plot')"
        },
        {
            "cell_type": "markdown",
            "metadata": {},
            "source": "## DATA PREPERATION"
        },
        {
            "cell_type": "code",
            "execution_count": 16,
            "metadata": {},
            "outputs": [
                {
                    "name": "stdout",
                    "output_type": "stream",
                    "text": "[[2.5]\n [5.1]\n [3.2]\n [8.5]\n [3.5]\n [1.5]\n [9.2]\n [5.5]\n [8.3]\n [2.7]\n [7.7]\n [5.9]\n [4.5]\n [3.3]\n [1.1]\n [8.9]\n [2.5]\n [1.9]\n [6.1]\n [7.4]\n [2.7]\n [4.8]\n [3.8]\n [6.9]\n [7.8]]\n[21 47 27 75 30 20 88 60 81 25 85 62 41 42 17 95 30 24 67 69 30 54 35 76\n 86]\n"
                }
            ],
            "source": "### RAW DATA INTO READILY AND ACCURATELY ANAALYSED FORM\nx=data.iloc[:,:-1].values\ny=data.iloc[:,-1].values\nprint(x)\nprint(y)"
        },
        {
            "cell_type": "markdown",
            "metadata": {},
            "source": "## TESTING AND TRAINING"
        },
        {
            "cell_type": "code",
            "execution_count": 17,
            "metadata": {},
            "outputs": [],
            "source": "from sklearn.model_selection import train_test_split \nx_train, x_test, y_train, y_test = train_test_split(x , y , test_size = 0.40, random_state = 0)"
        },
        {
            "cell_type": "code",
            "execution_count": 18,
            "metadata": {},
            "outputs": [
                {
                    "name": "stdout",
                    "output_type": "stream",
                    "text": "[[5.1]\n [7.7]\n [3.3]\n [8.3]\n [9.2]\n [6.1]\n [3.5]\n [2.7]\n [5.5]\n [2.7]\n [8.5]\n [2.5]\n [4.8]\n [8.9]\n [4.5]]\n[[1.5]\n [3.2]\n [7.4]\n [2.5]\n [5.9]\n [3.8]\n [1.9]\n [7.8]\n [6.9]\n [1.1]]\n"
                }
            ],
            "source": "print(x_train)\nprint(x_test)"
        },
        {
            "cell_type": "code",
            "execution_count": 19,
            "metadata": {},
            "outputs": [
                {
                    "name": "stdout",
                    "output_type": "stream",
                    "text": "[47 85 42 81 88 67 30 25 60 30 75 21 54 95 41]\n[20 27 69 30 62 35 24 86 76 17]\n"
                }
            ],
            "source": "print(y_train)\nprint(y_test)"
        },
        {
            "cell_type": "code",
            "execution_count": 20,
            "metadata": {},
            "outputs": [
                {
                    "data": {
                        "text/plain": "LinearRegression()"
                    },
                    "execution_count": 20,
                    "metadata": {},
                    "output_type": "execute_result"
                }
            ],
            "source": "from sklearn.linear_model import LinearRegression\nregressor = LinearRegression()\nregressor.fit(x_train, y_train)"
        },
        {
            "cell_type": "code",
            "execution_count": 21,
            "metadata": {},
            "outputs": [
                {
                    "name": "stdout",
                    "output_type": "stream",
                    "text": "Predicted data\n [15.9477618  32.77394723 74.344523   25.84551793 59.49788879 38.71260091\n 19.90686425 78.30362545 69.39564493 11.98865934]\n"
                }
            ],
            "source": "y_pred = regressor.predict(x_test)\nprint('Predicted data\\n' , y_pred)"
        },
        {
            "cell_type": "markdown",
            "metadata": {},
            "source": "## COMPARING PREDICTED VALUES AND ACTUAL VALUES\n"
        },
        {
            "cell_type": "code",
            "execution_count": 22,
            "metadata": {},
            "outputs": [
                {
                    "data": {
                        "text/html": "<div>\n<style scoped>\n    .dataframe tbody tr th:only-of-type {\n        vertical-align: middle;\n    }\n\n    .dataframe tbody tr th {\n        vertical-align: top;\n    }\n\n    .dataframe thead th {\n        text-align: right;\n    }\n</style>\n<table border=\"1\" class=\"dataframe\">\n  <thead>\n    <tr style=\"text-align: right;\">\n      <th></th>\n      <th>Predicted values</th>\n      <th>Actual values</th>\n    </tr>\n  </thead>\n  <tbody>\n    <tr>\n      <th>0</th>\n      <td>15.947762</td>\n      <td>20</td>\n    </tr>\n    <tr>\n      <th>1</th>\n      <td>32.773947</td>\n      <td>27</td>\n    </tr>\n    <tr>\n      <th>2</th>\n      <td>74.344523</td>\n      <td>69</td>\n    </tr>\n    <tr>\n      <th>3</th>\n      <td>25.845518</td>\n      <td>30</td>\n    </tr>\n    <tr>\n      <th>4</th>\n      <td>59.497889</td>\n      <td>62</td>\n    </tr>\n    <tr>\n      <th>5</th>\n      <td>38.712601</td>\n      <td>35</td>\n    </tr>\n    <tr>\n      <th>6</th>\n      <td>19.906864</td>\n      <td>24</td>\n    </tr>\n    <tr>\n      <th>7</th>\n      <td>78.303625</td>\n      <td>86</td>\n    </tr>\n    <tr>\n      <th>8</th>\n      <td>69.395645</td>\n      <td>76</td>\n    </tr>\n    <tr>\n      <th>9</th>\n      <td>11.988659</td>\n      <td>17</td>\n    </tr>\n  </tbody>\n</table>\n</div>",
                        "text/plain": "   Predicted values  Actual values\n0         15.947762             20\n1         32.773947             27\n2         74.344523             69\n3         25.845518             30\n4         59.497889             62\n5         38.712601             35\n6         19.906864             24\n7         78.303625             86\n8         69.395645             76\n9         11.988659             17"
                    },
                    "execution_count": 22,
                    "metadata": {},
                    "output_type": "execute_result"
                }
            ],
            "source": "df=pd.DataFrame({'Predicted values':y_pred,'Actual values':y_test})\ndf"
        },
        {
            "cell_type": "code",
            "execution_count": 24,
            "metadata": {},
            "outputs": [
                {
                    "data": {
                        "text/plain": "Text(0.5, 1.0, 'Training Set')"
                    },
                    "execution_count": 24,
                    "metadata": {},
                    "output_type": "execute_result"
                },
                {
                    "data": {
                        "image/png": "[encoded data removed]",
                        "text/plain": "<Figure size 432x288 with 1 Axes>"
                    },
                    "metadata": {
                        "needs_background": "light"
                    },
                    "output_type": "display_data"
                }
            ],
            "source": "plt.scatter(x_train,y_train,color='RED')\nplt.plot(x_train,regressor.predict(x_train),color='blue')\nplt.xlabel(\"Hours studied\")\nplt.ylabel(\"Scores\")\nplt.title(\"Training Set\")"
        },
        {
            "cell_type": "code",
            "execution_count": 25,
            "metadata": {},
            "outputs": [
                {
                    "data": {
                        "text/plain": "Text(0.5, 1.0, 'Test Set')"
                    },
                    "execution_count": 25,
                    "metadata": {},
                    "output_type": "execute_result"
                },
                {
                    "data": {
                        "image/png": "[encoded data removed]",
                        "text/plain": "<Figure size 432x288 with 1 Axes>"
                    },
                    "metadata": {
                        "needs_background": "light"
                    },
                    "output_type": "display_data"
                }
            ],
            "source": "plt.scatter(x_test,y_test,color='blue')\nplt.plot(x_train,regressor.predict(x_train),color='red')\nplt.xlabel(\"Hours studied\")\nplt.ylabel(\"Scores\")\nplt.title(\"Test Set\")"
        },
        {
            "cell_type": "markdown",
            "metadata": {},
            "source": "## PREDICTION\n"
        },
        {
            "cell_type": "code",
            "execution_count": 26,
            "metadata": {},
            "outputs": [
                {
                    "name": "stdout",
                    "output_type": "stream",
                    "text": "No of Hours = 9.25\nPredicted Score = 92.65537184734602\n"
                }
            ],
            "source": "hours = 9.25\nown_pred = regressor.predict([[hours]])\nprint(\"No of Hours = {}\".format(hours))\nprint(\"Predicted Score = {}\".format(own_pred[0]))"
        },
        {
            "cell_type": "markdown",
            "metadata": {},
            "source": "## MODEL EVALUATION"
        },
        {
            "cell_type": "code",
            "execution_count": 27,
            "metadata": {},
            "outputs": [
                {
                    "name": "stdout",
                    "output_type": "stream",
                    "text": "R-Squred Score is  0.956640847232559\n"
                }
            ],
            "source": "from sklearn.metrics import r2_score\nprint(\"R-Squred Score is \",r2_score(y_test, y_pred))"
        },
        {
            "cell_type": "code",
            "execution_count": 28,
            "metadata": {},
            "outputs": [
                {
                    "name": "stdout",
                    "output_type": "stream",
                    "text": "Mean_squared_error is 26.034569687682243\n"
                }
            ],
            "source": "from sklearn.metrics import mean_squared_error\nprint('Mean_squared_error is', mean_squared_error(y_test , y_pred))"
        },
        {
            "cell_type": "code",
            "execution_count": 29,
            "metadata": {},
            "outputs": [
                {
                    "name": "stdout",
                    "output_type": "stream",
                    "text": "Mean_squared_error is 4.894510863410609\n"
                }
            ],
            "source": "from sklearn.metrics import mean_absolute_error\nprint('Mean_squared_error is', mean_absolute_error(y_test , y_pred))"
        },
        {
            "cell_type": "markdown",
            "metadata": {},
            "source": "##### Now using the equation of Linear Regression Line, which is Y = M*X + B\n"
        },
        {
            "cell_type": "code",
            "execution_count": 31,
            "metadata": {},
            "outputs": [
                {
                    "name": "stdout",
                    "output_type": "stream",
                    "text": "Line Equation is y = m* [9.89775614] + 1.1011275945189567\n"
                }
            ],
            "source": "print('Line Equation is y = m*',regressor.coef_,'+', regressor.intercept_)"
        },
        {
            "cell_type": "markdown",
            "metadata": {},
            "source": "#### PREDICTION USING SUPERVISED ML ACHIVED."
        }
    ],
    "metadata": {
        "kernelspec": {
            "display_name": "Python 3.7",
            "language": "python",
            "name": "python3"
        },
        "language_info": {
            "codemirror_mode": {
                "name": "ipython",
                "version": 3
            },
            "file_extension": ".py",
            "mimetype": "text/x-python",
            "name": "python",
            "nbconvert_exporter": "python",
            "pygments_lexer": "ipython3",
            "version": "3.7.9"
        }
    },
    "nbformat": 4,
    "nbformat_minor": 1
}